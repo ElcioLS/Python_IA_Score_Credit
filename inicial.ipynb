{
 "cells": [
  {
   "cell_type": "markdown",
   "metadata": {},
   "source": [
    "# Projeto Python IA: Inteligência Artificial e Previsões\n",
    "\n",
    "### Case: Score de Crédito dos Clientes\n",
    "\n",
    "Você foi contratado por um banco para conseguir definir o score de crédito dos clientes. Você precisa analisar todos os clientes do banco e, com base nessa análise, criar um modelo que consiga ler as informações do cliente e dizer automaticamente o score de crédito dele: Ruim, Ok, Bom\n",
    "\n",
    "Arquivos da aula: https://drive.google.com/drive/folders/1FbDqVq4XLvU85VBlVIMJ73p9oOu6u2-J?usp=drive_link"
   ]
  },
  {
   "cell_type": "code",
   "execution_count": null,
   "metadata": {},
   "outputs": [],
   "source": [
    "# Passo a passo dp projeto\n",
    "# Passo 0 -> Entender o desafio da empresa\n",
    "# Passo 1 -> Importar a base de dados\n",
    "# Passo 2 -> Preparar a base de dados para a inteligência artificial\n",
    "# Passo 3 -> Criar um modelo de IA -> Score crédito: Bom, Ok, Ruim\n",
    "# Passo 4 -> Escolher o menhor modelo\n",
    "# Passo 5 -> Usar a nossa IA para fazer novas previsões\n",
    "\n",
    "# !pip install pandas scikit-learn\n",
    "\n",
    "# Passo 0 = Criar uma inteligencia artificial capaz de prever o score de credito\n"
   ]
  },
  {
   "cell_type": "code",
   "execution_count": null,
   "metadata": {},
   "outputs": [],
   "source": [
    "# Passo 1\n",
    "import pandas as pd\n",
    "\n",
    "# tabela = pd.read_csv(\"https://elcicomp.com/dados/clientes.csv\")\n",
    "tabela = pd.read_csv(\"clientes.csv\")\n",
    "\n",
    "display (tabela)\n",
    "display(tabela.info())\n",
    "\n",
    "# Good (Bom), Standard (Ok), Poor (Ruim)"
   ]
  },
  {
   "cell_type": "code",
   "execution_count": null,
   "metadata": {},
   "outputs": [],
   "source": [
    "# Passo 2 -> Preparar a base de dados para a inteligência artificial\n",
    "# int = numero inteiro\n",
    "# float = numero com casa decimal\n",
    "# object = texto\n",
    "\n",
    "# Label Encoder - profissao, mix_credito, comportamento_pagamento\n",
    "# profissao \n",
    "# engenheiro -> 1\n",
    "# cientista -> 2\n",
    "# advogado -> 3\n",
    "# artista -> 4\n",
    "# mecanico -> 5\n",
    "\n",
    " # etapa 1: importar o label encoder\n",
    "from sklearn.preprocessing import LabelEncoder \n",
    " \n",
    " # etapa 2: criar o label encoder\n",
    "codificador = LabelEncoder()\n",
    "\n",
    " # etapa 3: aplicar o label encoder na coluna\n",
    "tabela[\"profissao\"] = codificador.fit_transform(tabela[\"profissao\"])\n",
    "\n",
    "# mix_credito\n",
    "tabela[\"mix_credito\"] = codificador.fit_transform(tabela[\"mix_credito\"])\n",
    "\n",
    "# comportamento_pagamento\n",
    "tabela[\"comportamento_pagamento\"] = codificador.fit_transform(tabela[\"comportamento_pagamento\"])\n",
    "\n",
    "display(tabela.info())\n",
    "\n",
    "\n",
    "\n",
    "\n",
    "\n"
   ]
  },
  {
   "cell_type": "code",
   "execution_count": null,
   "metadata": {},
   "outputs": [],
   "source": [
    "# 2 divisões\n",
    "# quem eu quero prever, quem eu quero usar pra fazer a previsao\n",
    "# y  é o cara que quero prever = score de credito\n",
    "# x é quem eu quero usar ra fazer a previsão \n",
    "# 1:\n",
    "y = tabela[\"score_credito\"]\n",
    "x = tabela.drop(columns=[\"score_credito\", \"id_cliente\"])\n",
    "\n",
    "# 2:\n",
    "# treino e teste\n",
    "from sklearn.model_selection import train_test_split\n",
    "\n",
    "x_treino, x_teste, y_treino, y_teste = train_test_split(x, y, test_size=0.3)\n",
    "\n"
   ]
  },
  {
   "cell_type": "code",
   "execution_count": null,
   "metadata": {},
   "outputs": [],
   "source": [
    "# criar a inteligencia artificial\n",
    "# Arvore de decisao\n",
    "# KNN = Vizinhos proximos(Nearest Neighbores)\n",
    "\n",
    "# Passo 1: importar a inteligencia artificial\n",
    "from sklearn.ensemble import RandomForestClassifier\n",
    "from sklearn.neighbors import KNeighborsClassifier\n",
    "\n",
    "# Passo 2: cria a inteligencias artificial\n",
    "modelo_arvoredecisao = RandomForestClassifier()\n",
    "modelo_knn = KNeighborsClassifier()\n",
    "\n",
    "# treina a inteligencia artificial\n",
    "modelo_arvoredecisao.fit(x_treino, y_treino)\n",
    "modelo_knn.fit(x_treino, y_treino)"
   ]
  },
  {
   "cell_type": "code",
   "execution_count": null,
   "metadata": {},
   "outputs": [],
   "source": [
    "# testart os modelos\n",
    "precisao_arvoredecisao = modelo_arvoredecisao.predict(x_teste)\n",
    "previsao_knn = modelo_knn.predict(x_teste)\n",
    "\n",
    "from sklearn.metrics import accuracy_score\n",
    "\n",
    "print(accuracy_score(y_teste, precisao_arvoredecisao))\n",
    "print(accuracy_score(y_teste, previsao_knn))"
   ]
  },
  {
   "cell_type": "code",
   "execution_count": null,
   "metadata": {},
   "outputs": [],
   "source": [
    "# o melhor modelo é o de arvore de decisao\n",
    "tabela_nova = pd.read_csv(\"novos_clientes.csv\")\n",
    "display(tabela_nova)\n",
    "\n",
    "tabela_nova[\"profissao\"] = codificador.fit_transform(tabela_nova[\"profissao\"])\n",
    "tabela_nova[\"mix_credito\"] = codificador.fit_transform(tabela_nova[\"mix_credito\"])\n",
    "tabela_nova[\"comportamento_pagamento\"] = codificador.fit_transform(tabela_nova[\"comportamento_pagamento\"])\n",
    "\n",
    "previsoes = modelo_arvoredecisao.predict(tabela_nova)\n",
    "display(previsoes)\n",
    "\n"
   ]
  }
 ],
 "metadata": {
  "kernelspec": {
   "display_name": "Python 3",
   "language": "python",
   "name": "python3"
  },
  "language_info": {
   "codemirror_mode": {
    "name": "ipython",
    "version": 3
   },
   "file_extension": ".py",
   "mimetype": "text/x-python",
   "name": "python",
   "nbconvert_exporter": "python",
   "pygments_lexer": "ipython3",
   "version": "3.12.1"
  },
  "orig_nbformat": 4
 },
 "nbformat": 4,
 "nbformat_minor": 2
}
